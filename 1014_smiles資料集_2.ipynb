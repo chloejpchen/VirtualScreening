{
  "nbformat": 4,
  "nbformat_minor": 0,
  "metadata": {
    "colab": {
      "provenance": []
    },
    "kernelspec": {
      "name": "python3",
      "display_name": "Python 3"
    },
    "language_info": {
      "name": "python"
    }
  },
  "cells": [
    {
      "cell_type": "code",
      "execution_count": null,
      "metadata": {
        "id": "JmM2iDIXyfHh"
      },
      "outputs": [],
      "source": [
        "! pip install padelpy"
      ]
    },
    {
      "cell_type": "code",
      "source": [
        "import pandas as pd\n",
        "from padelpy import from_smiles\n",
        "\n",
        "\n",
        "#把原始資料切割成五份\n",
        "df=pd.read_excel('/content/CNSData(940).xlsx')\n",
        "\n",
        "chunk_size = len(df) // 5\n",
        "\n",
        "split_dfs = []\n",
        "for i in range(5):\n",
        "    start = i * chunk_size\n",
        "    end = (i + 1) * chunk_size if i < 4 else None\n",
        "    split_dfs.append(df.iloc[start:end])\n",
        "\n",
        "for i, split_df in enumerate(split_dfs):\n",
        "    split_df.to_csv(f'/Users/chenjiapei/Desktop/split_{i + 1}.csv', index=False)\n",
        "\n",
        "for i, split_df in enumerate(split_dfs):\n",
        "    print(f\"子DataFrame {i + 1}:\")\n",
        "    print(split_df)\n",
        "    print(\"\\n\")\n",
        "\n",
        "#用五份資料分別跑smiles\n",
        "for x in range(1, 5):\n",
        "    filename = f'/content/split_{x}.csv'\n",
        "    df = pd.read_csv(filename)\n",
        "    smiles_x = df['smiles'].tolist()\n",
        "    print(f\"smiles_x for x = {x}: {smiles_x}\")\n",
        "    _ = from_smiles(smiles_x, output_csv=f'descriptors{x}.csv', timeout=1200)\n",
        "\n",
        "#合併五個結果\n",
        "df1=pd.read_csv('/content/descriptors1.csv')\n",
        "df2=pd.read_csv('/content/descriptors2.csv')\n",
        "df3=pd.read_csv('/content/descriptors3.csv')\n",
        "df4=pd.read_csv('/content/descriptors4.csv')\n",
        "df5=pd.read_csv('/content/descriptors5.csv')\n",
        "\n",
        "combined_df = pd.concat([df1, df2, df3, df4, df5], axis=0)\n",
        "combined_df = combined_df.reset_index(drop=True)\n",
        "combined_df.to_csv('/content/descriptors_all.csv')\n",
        "\n",
        "#合併原始data\n",
        "merged_data = pd.concat([df, combined_df], axis=1)\n",
        "merged_data.to_csv('/content/descriptors_ok.csv')"
      ],
      "metadata": {
        "id": "EiZn5a03ylI9"
      },
      "execution_count": null,
      "outputs": []
    }
  ]
}